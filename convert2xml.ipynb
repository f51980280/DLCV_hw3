{
 "cells": [
  {
   "cell_type": "code",
   "execution_count": 1,
   "metadata": {},
   "outputs": [
    {
     "name": "stdout",
     "output_type": "stream",
     "text": [
      "/root/anaconda3/envs/hw3\n"
     ]
    }
   ],
   "source": [
    "import numpy as np\n",
    "import pandas as pd\n",
    "import os\n",
    "import cv2\n",
    "import h5py\n",
    "import construct_datasets #if use this, construct \"train_data_processed.h5\" with digitStruct.mat"
   ]
  },
  {
   "cell_type": "code",
   "execution_count": 42,
   "metadata": {},
   "outputs": [],
   "source": [
    "root_dir = os.getcwd()\n",
    "\n",
    "train_data = pd.read_hdf(os.path.join(root_dir, 'train', 'train_data_processed.h5'), 'table')\n",
    "train = train_data.to_numpy()"
   ]
  },
  {
   "cell_type": "code",
   "execution_count": 83,
   "metadata": {},
   "outputs": [],
   "source": [
    "from lxml import etree, objectify\n",
    "\n",
    "#training data path for covert to xml\n",
    "f = h5py.File(os.path.join(root_dir, 'train', 'digitStruct.mat'), 'r')\n",
    "\n",
    "for i in range(train.shape[0]):\n",
    "    E = objectify.ElementMaker(annotate=False)\n",
    "    \n",
    "    ID = int(train[i,2].split('.')[0])\n",
    "    box = construct_datasets.get_bbox(int(train[i,2].split('.')[0])-1,f)\n",
    "\n",
    "    anno_tree = E.annotation(\n",
    "        E.filename(construct_datasets.get_name(ID-1,f)),\n",
    "        E.size(\n",
    "            E.width(train[i,12]),\n",
    "            E.height(train[i,11]),\n",
    "            E.depth(3)\n",
    "        ),\n",
    "    )\n",
    "    \n",
    "    for j in range(len(box['left'])):\n",
    "        E2 = objectify.ElementMaker(annotate=False)\n",
    "        anno_tree2 = E2.object(\n",
    "            E.name(int(box['label'][j])),\n",
    "            E.bndbox(\n",
    "                E.xmin(int(box['left'][j])),\n",
    "                E.ymin(int(box['top'][j])),\n",
    "                E.xmax(int(box['width'][j]+box['left'][j])),\n",
    "                E.ymax(int(box['height'][j]+box['top'][j]))\n",
    "            ),\n",
    "        )\n",
    "        anno_tree.append(anno_tree2)\n",
    "\n",
    "    etree.ElementTree(anno_tree).write(\"annotation_test2/\"+str(ID).split('.')[0]+\".xml\", pretty_print=True)\n"
   ]
  },
  {
   "cell_type": "code",
   "execution_count": null,
   "metadata": {},
   "outputs": [],
   "source": []
  }
 ],
 "metadata": {
  "kernelspec": {
   "display_name": "Python 3",
   "language": "python",
   "name": "python3"
  },
  "language_info": {
   "codemirror_mode": {
    "name": "ipython",
    "version": 3
   },
   "file_extension": ".py",
   "mimetype": "text/x-python",
   "name": "python",
   "nbconvert_exporter": "python",
   "pygments_lexer": "ipython3",
   "version": "3.7.3"
  }
 },
 "nbformat": 4,
 "nbformat_minor": 2
}
